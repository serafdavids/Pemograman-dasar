{
  "nbformat": 4,
  "nbformat_minor": 0,
  "metadata": {
    "colab": {
      "provenance": [],
      "authorship_tag": "ABX9TyOhG8miVxlFxSJL3XxQWM5v",
      "include_colab_link": true
    },
    "kernelspec": {
      "name": "python3",
      "display_name": "Python 3"
    },
    "language_info": {
      "name": "python"
    }
  },
  "cells": [
    {
      "cell_type": "markdown",
      "metadata": {
        "id": "view-in-github",
        "colab_type": "text"
      },
      "source": [
        "<a href=\"https://colab.research.google.com/github/serafdavids/Pemograman-dasar/blob/main/Tugas_Pertemuan03.ipynb\" target=\"_parent\"><img src=\"https://colab.research.google.com/assets/colab-badge.svg\" alt=\"Open In Colab\"/></a>"
      ]
    },
    {
      "cell_type": "code",
      "execution_count": null,
      "metadata": {
        "colab": {
          "base_uri": "https://localhost:8080/"
        },
        "id": "KSjHyLatie3k",
        "outputId": "adb21fab-9823-4fbc-8ca7-c62c3f58ccac"
      },
      "outputs": [
        {
          "output_type": "stream",
          "name": "stdout",
          "text": [
            "Masukkan jumlah item yang dibeli: 3\n",
            "Masukkan harga item ke-1: 35000\n",
            "Masukkan harga item ke-2: 45000\n",
            "Masukkan harga item ke-3: 20000\n",
            "Apakah pelanggan member? (ya/tidak): tidak\n",
            "\n",
            "===== LAPORAN PEMBELIAN =====\n",
            "Subtotal            : Rp 100,000.00\n",
            "Member              : Tidak\n",
            "Diskon (15%)        : Rp 0.00\n",
            "Harga setelah diskon: Rp 100,000.00\n",
            "PPN (11%)           : Rp 11,000.00\n",
            "Total akhir bayar   : Rp 111,000.00\n",
            "==============================\n"
          ]
        }
      ],
      "source": [
        "def hitung_subtotal(harga_item):\n",
        "    return sum(harga_item)\n",
        "\n",
        "def cek_diskon(member, subtotal):\n",
        "    return member and subtotal > 100000\n",
        "\n",
        "def hitung_diskon(subtotal, eligible):\n",
        "    if eligible:\n",
        "        return subtotal * 0.15\n",
        "    else:\n",
        "        return 0\n",
        "\n",
        "def hitung_ppn(harga_setelah_diskon):\n",
        "    return harga_setelah_diskon * 0.11\n",
        "\n",
        "def hitung_total_akhir(harga_setelah_diskon, ppn):\n",
        "    return harga_setelah_diskon + ppn\n",
        "\n",
        "def main():\n",
        "    harga_item = []\n",
        "    n = int(input(\"Masukkan jumlah item yang dibeli: \"))\n",
        "\n",
        "    for i in range(n):\n",
        "        harga = float(input(f\"Masukkan harga item ke-{i+1}: \"))\n",
        "        harga_item.append(harga)\n",
        "\n",
        "    member_input = input(\"Apakah pelanggan member? (ya/tidak): \").strip().lower()\n",
        "    member = True if member_input == 'ya' else False\n",
        "    subtotal = hitung_subtotal(harga_item)\n",
        "    eligible_diskon = cek_diskon(member, subtotal)\n",
        "    diskon = hitung_diskon(subtotal, eligible_diskon)\n",
        "    harga_setelah_diskon = subtotal - diskon\n",
        "    ppn = hitung_ppn(harga_setelah_diskon)\n",
        "    total_akhir = hitung_total_akhir(harga_setelah_diskon, ppn)\n",
        "\n",
        "    print(\"\\n===== LAPORAN PEMBELIAN =====\")\n",
        "    print(f\"Subtotal            : Rp {subtotal:,.2f}\")\n",
        "    print(f\"Member              : {'Ya' if member else 'Tidak'}\")\n",
        "    print(f\"Diskon (15%)        : Rp {diskon:,.2f}\")\n",
        "    print(f\"Harga setelah diskon: Rp {harga_setelah_diskon:,.2f}\")\n",
        "    print(f\"PPN (11%)           : Rp {ppn:,.2f}\")\n",
        "    print(f\"Total akhir bayar   : Rp {total_akhir:,.2f}\")\n",
        "    print(\"==============================\")\n",
        "\n",
        "if __name__ == \"__main__\":\n",
        "    main()"
      ]
    }
  ]
}