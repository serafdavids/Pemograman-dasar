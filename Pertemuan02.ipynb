{
  "nbformat": 4,
  "nbformat_minor": 0,
  "metadata": {
    "colab": {
      "provenance": [],
      "authorship_tag": "ABX9TyPB4q6q/XIHH/KZIVs81LGY",
      "include_colab_link": true
    },
    "kernelspec": {
      "name": "python3",
      "display_name": "Python 3"
    },
    "language_info": {
      "name": "python"
    }
  },
  "cells": [
    {
      "cell_type": "markdown",
      "metadata": {
        "id": "view-in-github",
        "colab_type": "text"
      },
      "source": [
        "<a href=\"https://colab.research.google.com/github/serafdavids/Pemograman-dasar/blob/main/Pertemuan02.ipynb\" target=\"_parent\"><img src=\"https://colab.research.google.com/assets/colab-badge.svg\" alt=\"Open In Colab\"/></a>"
      ]
    },
    {
      "cell_type": "markdown",
      "source": [],
      "metadata": {
        "id": "RchB93Mycu_R"
      }
    },
    {
      "cell_type": "code",
      "source": [
        "#Metode Indexing\n",
        "x = 'polibatam'\n",
        "print(x[0])\n",
        "print(x[1])\n",
        "print(x[2])\n",
        "print(x[3])\n",
        "print(x[4])\n",
        "print(x[5])\n",
        "print(x[6])\n",
        "print(x[7])\n",
        "print(x[8])"
      ],
      "metadata": {
        "colab": {
          "base_uri": "https://localhost:8080/"
        },
        "id": "6yYAK3HibP_-",
        "outputId": "c576c4b6-6131-4207-d8e1-c1b3379c7c40"
      },
      "execution_count": null,
      "outputs": [
        {
          "output_type": "stream",
          "name": "stdout",
          "text": [
            "p\n",
            "o\n",
            "l\n",
            "i\n",
            "b\n",
            "a\n",
            "t\n",
            "a\n",
            "m\n"
          ]
        }
      ]
    },
    {
      "cell_type": "code",
      "execution_count": null,
      "metadata": {
        "id": "PX5fVmHSRPhh",
        "colab": {
          "base_uri": "https://localhost:8080/"
        },
        "outputId": "3467ae61-f87d-4e9b-ea2d-b19e60cd5667"
      },
      "outputs": [
        {
          "output_type": "stream",
          "name": "stdout",
          "text": [
            "hello, nama saya SERAF DAVID SIMANUNGKALIT\n"
          ]
        }
      ],
      "source": [
        "#Formatt string\n",
        "name = \"SERAF DAVID SIMANUNGKALIT\"\n",
        "print(f\"hello, nama saya {name}\")"
      ]
    },
    {
      "cell_type": "code",
      "source": [
        "# %-formatting\n",
        "name = \"Seraf david Simanungkalit\"\n",
        "print(\"Nama saya%s\" % (name))"
      ],
      "metadata": {
        "colab": {
          "base_uri": "https://localhost:8080/"
        },
        "id": "4CnVX0UaZ3-J",
        "outputId": "f08a9846-583e-459e-e470-aa41124e22f8"
      },
      "execution_count": null,
      "outputs": [
        {
          "output_type": "stream",
          "name": "stdout",
          "text": [
            "Nama sayaSeraf david Simanungkalit\n"
          ]
        }
      ]
    },
    {
      "cell_type": "code",
      "source": [
        "#str.format()\n",
        "name = \"Seraf David Simanungkalit\"\n",
        "print (\"Nama saya {}\" .format(name))\n",
        "\n",
        "nama = \"Seraf\"\n",
        "print(\"Nama saya :\", nama)"
      ],
      "metadata": {
        "colab": {
          "base_uri": "https://localhost:8080/"
        },
        "id": "_JO1RUO0YAvu",
        "outputId": "0432f4e5-81b5-4eae-f77c-57b0391f6425"
      },
      "execution_count": null,
      "outputs": [
        {
          "output_type": "stream",
          "name": "stdout",
          "text": [
            "Nama saya Seraf David Simanungkalit\n",
            "Nama saya : Seraf\n"
          ]
        }
      ]
    },
    {
      "cell_type": "code",
      "source": [
        "#List\n",
        "x = [1, 2.2, 'polibatam']\n",
        "print(type(x))\n",
        "\n",
        "x= [1, 2.2, 'Dicoding']\n",
        "print(x)"
      ],
      "metadata": {
        "colab": {
          "base_uri": "https://localhost:8080/"
        },
        "id": "hcTp3hI1c6hy",
        "outputId": "87cd8468-ba05-48b7-9fce-9ff027384bec"
      },
      "execution_count": null,
      "outputs": [
        {
          "output_type": "stream",
          "name": "stdout",
          "text": [
            "<class 'list'>\n",
            "[1, 2.2, 'Dicoding']\n"
          ]
        }
      ]
    },
    {
      "cell_type": "code",
      "source": [
        "#Indexing list\n",
        "x = [1, 'polibatam', True, 1.0]\n",
        "print(x[2])\n",
        "#Mutable List\n",
        "x = [1, 2.2, 'polibatam']\n",
        "x[0] = 'indonesia'\n",
        "print(x)"
      ],
      "metadata": {
        "colab": {
          "base_uri": "https://localhost:8080/"
        },
        "id": "tEq07Jbxd_GA",
        "outputId": "36678b8a-ea33-4c89-a7ee-0a603ea8d90e"
      },
      "execution_count": null,
      "outputs": [
        {
          "output_type": "stream",
          "name": "stdout",
          "text": [
            "True\n",
            "['indonesia', 2.2, 'polibatam']\n"
          ]
        }
      ]
    }
  ]
}