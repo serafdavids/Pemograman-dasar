{
  "nbformat": 4,
  "nbformat_minor": 0,
  "metadata": {
    "colab": {
      "provenance": [],
      "authorship_tag": "ABX9TyNX9yovu7EsVzXStr6pviW3",
      "include_colab_link": true
    },
    "kernelspec": {
      "name": "python3",
      "display_name": "Python 3"
    },
    "language_info": {
      "name": "python"
    }
  },
  "cells": [
    {
      "cell_type": "markdown",
      "metadata": {
        "id": "view-in-github",
        "colab_type": "text"
      },
      "source": [
        "<a href=\"https://colab.research.google.com/github/serafdavids/Pemograman-dasar/blob/main/LATIHAN_%26_TUGAS_Pertemuan04.ipynb\" target=\"_parent\"><img src=\"https://colab.research.google.com/assets/colab-badge.svg\" alt=\"Open In Colab\"/></a>"
      ]
    },
    {
      "cell_type": "code",
      "execution_count": 3,
      "metadata": {
        "colab": {
          "base_uri": "https://localhost:8080/"
        },
        "id": "StlLIzSouknX",
        "outputId": "6bfa727b-db6a-46cc-ce66-66168807f815"
      },
      "outputs": [
        {
          "output_type": "stream",
          "name": "stdout",
          "text": [
            "Masukkan sebuah angka: 10\n",
            "Kelipatan 5\n"
          ]
        }
      ],
      "source": [
        "# Meminta pengguna untuk memasukkan angka\n",
        "angka = int(input(\"Masukkan sebuah angka: \"))\n",
        "\n",
        "# Memeriksa apakah angka habis dibagi 5\n",
        "if angka % 5 == 0:\n",
        "    print(\"Kelipatan 5\")"
      ]
    },
    {
      "cell_type": "code",
      "source": [
        "# Meminta pengguna untuk memasukkan tahun\n",
        "tahun = int(input(\"Masukkan sebuah tahun: \"))\n",
        "\n",
        "# Memeriksa syarat tahun kabisat\n",
        "if (tahun % 400 == 0):\n",
        "    print(f\"{tahun} adalah tahun kabisat.\")\n",
        "elif (tahun % 4 == 0 and tahun % 100 != 0):\n",
        "    print(f\"{tahun} adalah tahun kabisat.\")\n",
        "else:\n",
        "    print(f\"{tahun} bukan tahun kabisat.\")"
      ],
      "metadata": {
        "colab": {
          "base_uri": "https://localhost:8080/"
        },
        "id": "W2Xg7F5yvRB-",
        "outputId": "dde1af4c-47ec-4ee6-d7c2-ebb8273fe037"
      },
      "execution_count": null,
      "outputs": [
        {
          "output_type": "stream",
          "name": "stdout",
          "text": [
            "Masukkan sebuah tahun: 2040\n",
            "2040 adalah tahun kabisat.\n"
          ]
        }
      ]
    },
    {
      "cell_type": "code",
      "source": [
        "# Meminta pengguna untuk memasukkan angka\n",
        "angka_math = int(input(\"Masukkan sebuah angka: \"))\n",
        "\n",
        "# Memeriksa kondisi\n",
        "if angka_math == 0:\n",
        "    print(\"Nol\")\n",
        "elif angka_math % 2 == 0:\n",
        "    print(\"Genap\")\n",
        "else:\n",
        "    print(\"Ganjil\")"
      ],
      "metadata": {
        "colab": {
          "base_uri": "https://localhost:8080/"
        },
        "id": "WbZHZoAhvWQG",
        "outputId": "faaf1e0b-a249-4b3d-99aa-4a4da44305b2"
      },
      "execution_count": null,
      "outputs": [
        {
          "output_type": "stream",
          "name": "stdout",
          "text": [
            "Masukkan sebuah angka: 2014\n",
            "Genap\n"
          ]
        }
      ]
    },
    {
      "cell_type": "code",
      "source": [
        "# Meminta pengguna untuk memasukkan angka bulan\n",
        "bulan = int(input(\"Masukkan angka bulan (1-12): \"))\n",
        "\n",
        "# Memeriksa input dan menampilkan nama bulan\n",
        "if bulan == 1:\n",
        "    print(\"Januari\")\n",
        "elif bulan == 2:\n",
        "    print(\"Februari\")\n",
        "elif bulan == 3:\n",
        "    print(\"Maret\")\n",
        "elif bulan == 4:\n",
        "    print(\"April\")\n",
        "elif bulan == 5:\n",
        "    print(\"Mei\")\n",
        "elif bulan == 6:\n",
        "    print(\"Juni\")\n",
        "elif bulan == 7:\n",
        "    print(\"Juli\")\n",
        "elif bulan == 8:\n",
        "    print(\"Agustus\")\n",
        "elif bulan == 9:\n",
        "    print(\"September\")\n",
        "elif bulan == 10:\n",
        "    print(\"Oktober\")\n",
        "elif bulan == 11:\n",
        "    print(\"November\")\n",
        "elif bulan == 12:\n",
        "    print(\"Desember\")\n",
        "else:\n",
        "    print(\"Input salah\")"
      ],
      "metadata": {
        "colab": {
          "base_uri": "https://localhost:8080/"
        },
        "id": "vfosmxl9vdlv",
        "outputId": "cb858d98-8a27-4920-f388-ade52ad29b9f"
      },
      "execution_count": null,
      "outputs": [
        {
          "output_type": "stream",
          "name": "stdout",
          "text": [
            "Masukkan angka bulan (1-12): 5\n",
            "Mei\n"
          ]
        }
      ]
    },
    {
      "cell_type": "code",
      "source": [
        "# Meminta pengguna untuk memasukkan jam\n",
        "jam = int(input(\"Masukkan jam (0-23): \"))\n",
        "\n",
        "# Menampilkan salam sesuai jam\n",
        "if 0 <= jam <= 11:\n",
        "    print(\"Selamat Pagi\")\n",
        "elif 12 <= jam <= 15:\n",
        "    print(\"Selamat Siang\")\n",
        "elif 16 <= jam <= 18:\n",
        "    print(\"Selamat Sore\")\n",
        "elif 19 <= jam <= 23:\n",
        "    print(\"Selamat Malam\")\n",
        "else:\n",
        "    print(\"Input jam tidak valid\")"
      ],
      "metadata": {
        "id": "0u511FkavjV-",
        "outputId": "cd9ab890-b05f-4d94-da85-834b4d317cd0",
        "colab": {
          "base_uri": "https://localhost:8080/"
        }
      },
      "execution_count": null,
      "outputs": [
        {
          "output_type": "stream",
          "name": "stdout",
          "text": [
            "Masukkan jam (0-23): 16\n",
            "Selamat Sore\n"
          ]
        }
      ]
    },
    {
      "cell_type": "code",
      "source": [
        "print(\"=\"*30)\n",
        "print(\"SELAMAT DATANG DI KAFE GENMIT\")\n",
        "print(\"=\"*30)\n",
        "print(\"Menu Makanan & Minuman:\")\n",
        "print(\"1. Kopi Hitam    - Rp 12.000\")\n",
        "print(\"2. Teh Manis     - Rp 8.000\")\n",
        "print(\"3. Roti Bakar    - Rp 15.000\")\n",
        "print(\"4. Mie Instan    - Rp 20.000\")\n",
        "print(\"=\"*30)\n",
        "\n",
        "pilihan_str = input(\"Silakan masukkan nomor pilihan Anda (1-4): \")\n",
        "pilihan_int = int(pilihan_str)\n",
        "nama_pesanan = \"\"\n",
        "harga = 0\n",
        "\n",
        "if pilihan_int == 1:\n",
        "    nama_pesanan = \"Kopi Hitam\"\n",
        "    harga = 12000\n",
        "elif pilihan_int == 2:\n",
        "    nama_pesanan = \"Teh Manis\"\n",
        "    harga = 8000\n",
        "elif pilihan_int == 3:\n",
        "    nama_pesanan = \"Roti Bakar\"\n",
        "    harga = 15000\n",
        "elif pilihan_int == 4:\n",
        "    nama_pesanan = \"Mie Instan\"\n",
        "    harga = 20000\n",
        "else:\n",
        "    print(\"Maaf, pilihan menu tidak valid. Silakan jalankan ulang program.\")\n",
        "    exit()\n",
        "\n",
        "print(f\"Anda memesan: {nama_pesanan} dengan harga Rp {harga}\")\n",
        "\n",
        "# ======= DISKON =======\n",
        "diskon = 0\n",
        "\n",
        "if harga >= 50000:\n",
        "    diskon = 0.7\n",
        "elif harga >= 30000:\n",
        "    diskon = 0.5\n",
        "elif harga >= 10000:\n",
        "    diskon = 0.3\n",
        "else:\n",
        "    diskon = 0\n",
        "\n",
        "jumlah_diskon = harga * diskon\n",
        "total_bayar = harga - jumlah_diskon\n",
        "\n",
        "print(f\"Diskon Anda: {int(diskon * 100)}%\")\n",
        "print(f\"Total yang harus dibayar setelah diskon: Rp {int(total_bayar)}\")\n",
        "\n",
        "# ======= PEMBAYARAN =======\n",
        "uang_dibayar_str = input(f\"Total yang harus Anda bayar adalah Rp {int(total_bayar)}. Masukkan jumlah uang Anda: Rp \")\n",
        "uang_dibayar = int(uang_dibayar_str)\n",
        "\n",
        "if uang_dibayar >= total_bayar:\n",
        "    kembalian = uang_dibayar - total_bayar\n",
        "    print(\"=\"*30)\n",
        "    print(\"======= Struk Pembayaran =======\")\n",
        "    print(f\"Pesanan Anda     : {nama_pesanan}\")\n",
        "    print(f\"Harga Awal       : Rp {harga}\")\n",
        "    print(f\"Diskon           : Rp {int(jumlah_diskon)}\")\n",
        "    print(f\"Total Dibayar    : Rp {int(total_bayar)}\")\n",
        "    print(f\"Uang Diberikan   : Rp {uang_dibayar}\")\n",
        "    print(f\"Kembalian Anda   : Rp {int(kembalian)}\")\n",
        "    print(\"Terima kasih telah berbelanja!\")\n",
        "else:\n",
        "    kekurangan = total_bayar - uang_dibayar\n",
        "    print(f\"Maaf, uang Anda kurang sebesar Rp {int(kekurangan)}\")\n",
        "\n",
        "print(\"=\"*30)"
      ],
      "metadata": {
        "id": "8xOPuGYdvmoe",
        "colab": {
          "base_uri": "https://localhost:8080/"
        },
        "outputId": "7b747572-b340-4b2b-b656-ced514f07c92"
      },
      "execution_count": 1,
      "outputs": [
        {
          "output_type": "stream",
          "name": "stdout",
          "text": [
            "==============================\n",
            "SELAMAT DATANG DI KAFE GENMIT\n",
            "==============================\n",
            "Menu Makanan & Minuman:\n",
            "1. Kopi Hitam    - Rp 12.000\n",
            "2. Teh Manis     - Rp 8.000\n",
            "3. Roti Bakar    - Rp 15.000\n",
            "4. Mie Instan    - Rp 20.000\n",
            "==============================\n",
            "Silakan masukkan nomor pilihan Anda (1-4): 4\n",
            "Anda memesan: Mie Instan dengan harga Rp 20000\n",
            "Diskon Anda: 30%\n",
            "Total yang harus dibayar setelah diskon: Rp 14000\n",
            "Total yang harus Anda bayar adalah Rp 14000. Masukkan jumlah uang Anda: Rp 100000\n",
            "==============================\n",
            "======= Struk Pembayaran =======\n",
            "Pesanan Anda     : Mie Instan\n",
            "Harga Awal       : Rp 20000\n",
            "Diskon           : Rp 6000\n",
            "Total Dibayar    : Rp 14000\n",
            "Uang Diberikan   : Rp 100000\n",
            "Kembalian Anda   : Rp 86000\n",
            "Terima kasih telah berbelanja!\n",
            "==============================\n"
          ]
        }
      ]
    }
  ]
}