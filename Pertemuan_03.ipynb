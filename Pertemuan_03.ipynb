{
  "nbformat": 4,
  "nbformat_minor": 0,
  "metadata": {
    "colab": {
      "provenance": [],
      "authorship_tag": "ABX9TyNlKNajFbV6zEFODI9Qnl77",
      "include_colab_link": true
    },
    "kernelspec": {
      "name": "python3",
      "display_name": "Python 3"
    },
    "language_info": {
      "name": "python"
    }
  },
  "cells": [
    {
      "cell_type": "markdown",
      "metadata": {
        "id": "view-in-github",
        "colab_type": "text"
      },
      "source": [
        "<a href=\"https://colab.research.google.com/github/serafdavids/Pemograman-dasar/blob/main/Pertemuan_03.ipynb\" target=\"_parent\"><img src=\"https://colab.research.google.com/assets/colab-badge.svg\" alt=\"Open In Colab\"/></a>"
      ]
    },
    {
      "cell_type": "code",
      "source": [
        "total = input(\"Berapa porsi makan yang Anda beli? : \")\n",
        "Nama = input(\"Siapa Nama Pelanggan ? : \")"
      ],
      "metadata": {
        "colab": {
          "base_uri": "https://localhost:8080/"
        },
        "id": "09JeMaSDbnwU",
        "outputId": "5d57573a-4bb8-4582-a08c-f96854aee886"
      },
      "execution_count": null,
      "outputs": [
        {
          "name": "stdout",
          "output_type": "stream",
          "text": [
            "Berapa porsi makan yang Anda beli? : 50\n",
            "Siapa Nama Pelanggan ? : Seraf\n"
          ]
        }
      ]
    },
    {
      "cell_type": "code",
      "source": [
        "food = \"bakso buatan ahmad sahroni\"\n",
        "print(\"dicky sedang memesan\"), food"
      ],
      "metadata": {
        "colab": {
          "base_uri": "https://localhost:8080/"
        },
        "id": "mn5BURUiU3SM",
        "outputId": "98ee4112-5837-40e7-8a63-777b09ff00a8"
      },
      "execution_count": null,
      "outputs": [
        {
          "output_type": "stream",
          "name": "stdout",
          "text": [
            "dicky sedang memesan\n"
          ]
        },
        {
          "output_type": "execute_result",
          "data": {
            "text/plain": [
              "(None, 'bakso buatan ahmad sahroni')"
            ]
          },
          "metadata": {},
          "execution_count": 6
        }
      ]
    },
    {
      "cell_type": "code",
      "source": [
        "food = \"Nasi Goreng Seafood\"\n",
        "print(\"seraf sedang memesan \"+ food)"
      ],
      "metadata": {
        "colab": {
          "base_uri": "https://localhost:8080/"
        },
        "id": "52UlUZOJV4C1",
        "outputId": "2a524e98-9dda-4358-ab11-ae92fdc4722d"
      },
      "execution_count": null,
      "outputs": [
        {
          "output_type": "stream",
          "name": "stdout",
          "text": [
            "seraf sedang memesan Nasi Goreng Seafood\n"
          ]
        }
      ]
    },
    {
      "cell_type": "code",
      "source": [
        "food = \"Nasi Goreng Seafood\"\n",
        "print(\"roby sedang memesan %s \" % (food))"
      ],
      "metadata": {
        "colab": {
          "base_uri": "https://localhost:8080/"
        },
        "id": "4Cp98v51XhvV",
        "outputId": "f3d34645-c85c-44bc-904a-86b4027ef070"
      },
      "execution_count": null,
      "outputs": [
        {
          "output_type": "stream",
          "name": "stdout",
          "text": [
            "roby sedang memesan Nasi Goreng Seafood \n"
          ]
        }
      ]
    },
    {
      "cell_type": "code",
      "source": [
        "a = 15\n",
        "b = 3\n",
        "print(\"penjumlahan:\", a+b)\n",
        "print(\"pengurangan:\", a-b)\n",
        "print(\"perkalian:\", a*b)\n",
        "print(\"pembagian:\", a/b)"
      ],
      "metadata": {
        "colab": {
          "base_uri": "https://localhost:8080/"
        },
        "id": "rEfeZxQUXwhM",
        "outputId": "ac69a5c2-298e-4eca-a54a-22b42c1986f1"
      },
      "execution_count": null,
      "outputs": [
        {
          "output_type": "stream",
          "name": "stdout",
          "text": [
            "penjumlahan: 18\n",
            "pengurangan: 12\n",
            "perkalian: 45\n",
            "pembagian: 5.0\n"
          ]
        }
      ]
    },
    {
      "cell_type": "code",
      "source": [
        "harga_makan = int(input(\"berapa harga nasi goreng seafood per porsi? \"))\n",
        "jumlah_makan = int(input(\"berapa porsi yang anda beli? \"))\n",
        "total_makan = harga_makan * jumlah_makan\n",
        "\n",
        "print(f\"harga_makan per porsi = {harga_makan}, totalnya adalah {total_makan}\")"
      ],
      "metadata": {
        "colab": {
          "base_uri": "https://localhost:8080/"
        },
        "id": "ED9Rr0yNZhTl",
        "outputId": "09386d3c-d456-4ca1-899d-ceac884c7fe7"
      },
      "execution_count": null,
      "outputs": [
        {
          "output_type": "stream",
          "name": "stdout",
          "text": [
            "berapa harga nasi goreng seafood per porsi? 500\n",
            "berapa porsi yang anda beli? 5\n",
            "harga_makan per porsi = 500, totalnya adalah 2500\n"
          ]
        }
      ]
    },
    {
      "cell_type": "code",
      "source": [
        "# konversi waktu\n",
        "total_detik = 358200\n",
        "jam = total_detik // 3600\n",
        "sisa_detik = total_detik % 3600\n",
        "menit = sisa_detik // 60\n",
        "detik = sisa_detik % 60\n",
        "print(f\"Hasil Konversi: {jam} Jam, {menit} Menit, {detik} Detik\")"
      ],
      "metadata": {
        "colab": {
          "base_uri": "https://localhost:8080/"
        },
        "id": "29uxTmE1b8-b",
        "outputId": "4dc760c2-a957-4bcc-8307-9c1137e380d5"
      },
      "execution_count": null,
      "outputs": [
        {
          "output_type": "stream",
          "name": "stdout",
          "text": [
            "Hasil Konversi: 99 Jam, 30 Menit, 0 Detik\n"
          ]
        }
      ]
    },
    {
      "cell_type": "code",
      "source": [
        "tugas = 90\n",
        "uts = 100\n",
        "uas = 90\n",
        "nilai_akhir = (0.3 * tugas) + (0.3 * uts) + (0.4 * uas)\n",
        "print(\"Nilai akhir =\", nilai_akhir)"
      ],
      "metadata": {
        "colab": {
          "base_uri": "https://localhost:8080/"
        },
        "id": "Qe8ZUc2OcbKM",
        "outputId": "b6ea6f47-026c-4434-cfb5-3329dae19771"
      },
      "execution_count": null,
      "outputs": [
        {
          "output_type": "stream",
          "name": "stdout",
          "text": [
            "Nilai akhir = 93.0\n"
          ]
        }
      ]
    },
    {
      "cell_type": "code",
      "source": [
        "nilai_mahasiswa =  85\n",
        "standar_kelulusan = 83\n",
        "\n",
        "apakah_lulus = nilai_mahasiswa >= standar_kelulusan\n",
        "perlu_remedial = nilai_mahasiswa < standar_kelulusan\n",
        "\n",
        "print(f\"Nilai Mahasiswa: {nilai_mahasiswa}\")\n",
        "print(f\"Standar Kelulusan: {standar_kelulusan}\")\n",
        "print(f\"Apakah Mahasiswa Lulus? {apakah_lulus}\")\n",
        "print(f\"Perlu Remedial? {perlu_remedial}\")"
      ],
      "metadata": {
        "colab": {
          "base_uri": "https://localhost:8080/"
        },
        "id": "znkOMBhQcoOD",
        "outputId": "e250e6d0-94e8-474e-fab9-b193c2afd808"
      },
      "execution_count": null,
      "outputs": [
        {
          "output_type": "stream",
          "name": "stdout",
          "text": [
            "Nilai Mahasiswa: 85\n",
            "Standar Kelulusan: 83\n",
            "Apakah Mahasiswa Lulus? True\n",
            "Perlu Remedial? False\n"
          ]
        }
      ]
    },
    {
      "cell_type": "code",
      "source": [
        "tugas = float(input(\"Masukkan nilai tugas: \"))\n",
        "uts = float(input(\"Masukkan nilai UTS: \"))\n",
        "uas = float(input(\"Masukkan nilai UAS: \"))\n",
        "kuis = float(input(\"Masukkan nilai kuis: \"))\n",
        "praktikum = float(input(\"Masukkan nilai praktikum: \"))\n",
        "\n",
        "nilai_mahasiswa = (0.2 * tugas) + (0.25 * uts) + (0.3 * uas) + (0.15 * kuis) + (0.1 * praktikum)\n",
        "standar_kelulusan = float(input(\"Masukkan nilai standar kelulusan: \"))\n",
        "apakah_lulus = nilai_mahasiswa >= standar_kelulusan\n",
        "perlu_remedial = nilai_mahasiswa < standar_kelulusan\n",
        "print(f\"Nilai Mahasiswa: {nilai_mahasiswa}\")\n",
        "print(f\"Standar Kelulusan: {standar_kelulusan}\")\n",
        "print(f\"Apakah Mahasiswa Lulus? {apakah_lulus}\")\n",
        "print(f\"Perlu Remedial? {perlu_remedial}\")"
      ],
      "metadata": {
        "colab": {
          "base_uri": "https://localhost:8080/"
        },
        "id": "e3jZxF5feIIs",
        "outputId": "b703bba3-eeda-4ed0-e90f-b5a0536050d4"
      },
      "execution_count": null,
      "outputs": [
        {
          "output_type": "stream",
          "name": "stdout",
          "text": [
            "Masukkan nilai tugas: 80\n",
            "Masukkan nilai UTS: 90\n",
            "Masukkan nilai UAS: 100\n",
            "Masukkan nilai kuis: 75\n",
            "Masukkan nilai praktikum: 85\n",
            "Masukkan nilai standar kelulusan: 84\n",
            "Nilai Mahasiswa: 88.25\n",
            "Standar Kelulusan: 84.0\n",
            "Apakah Mahasiswa Lulus? True\n",
            "Perlu Remedial? False\n"
          ]
        }
      ]
    },
    {
      "cell_type": "code",
      "source": [
        "belanja = 2200000\n",
        "diskon = (0, 0.35 * belanja)[belanja > 1000000]\n",
        "total_harga = belanja - diskon\n",
        "print(\"Total harga setelah diskon =\", total_harga)"
      ],
      "metadata": {
        "colab": {
          "base_uri": "https://localhost:8080/"
        },
        "id": "suxlqbtke77b",
        "outputId": "424e3432-8267-4bf8-c890-c6fc0f708c09"
      },
      "execution_count": 66,
      "outputs": [
        {
          "output_type": "stream",
          "name": "stdout",
          "text": [
            "Total harga setelah diskon = 1430000.0\n"
          ]
        }
      ]
    },
    {
      "cell_type": "code",
      "metadata": {
        "colab": {
          "base_uri": "https://localhost:8080/"
        },
        "id": "sUixaup_hnWc",
        "outputId": "472afae3-c8d7-4930-e1f1-02ac12871068"
      },
      "source": [
        "#latihan\n",
        "def input_tahun():\n",
        "    return int(input(\"Masukkan tahun: \"))\n",
        "\n",
        "def adalah_kabisat(tahun):\n",
        "    return (tahun % 4 == 0 and tahun % 100 != 0) or (tahun % 400 == 0)\n",
        "\n",
        "def tampilkan_hasil(tahun, hasil):\n",
        "  if hasil:\n",
        "        print(f\"Tahun {tahun} adalah tahun kabisat.\")\n",
        "  else:\n",
        "        print(f\"Tahun {tahun} bukan tahun kabisat.\")\n",
        "\n",
        "tahun = input_tahun()\n",
        "hasil_kabisat = adalah_kabisat(tahun)\n",
        "tampilkan_hasil(tahun, hasil_kabisat)"
      ],
      "execution_count": 68,
      "outputs": [
        {
          "output_type": "stream",
          "name": "stdout",
          "text": [
            "Masukkan tahun: 2800\n",
            "Tahun 2800 adalah tahun kabisat.\n"
          ]
        }
      ]
    }
  ]
}