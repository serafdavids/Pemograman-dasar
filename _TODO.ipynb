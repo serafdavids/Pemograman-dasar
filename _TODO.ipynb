{
  "nbformat": 4,
  "nbformat_minor": 0,
  "metadata": {
    "colab": {
      "provenance": [],
      "authorship_tag": "ABX9TyMzh7Cz/UlewabYVZgDStug",
      "include_colab_link": true
    },
    "kernelspec": {
      "name": "python3",
      "display_name": "Python 3"
    },
    "language_info": {
      "name": "python"
    }
  },
  "cells": [
    {
      "cell_type": "markdown",
      "metadata": {
        "id": "view-in-github",
        "colab_type": "text"
      },
      "source": [
        "<a href=\"https://colab.research.google.com/github/serafdavids/Pemograman-dasar/blob/main/_TODO.ipynb\" target=\"_parent\"><img src=\"https://colab.research.google.com/assets/colab-badge.svg\" alt=\"Open In Colab\"/></a>"
      ]
    },
    {
      "cell_type": "code",
      "execution_count": 1,
      "metadata": {
        "colab": {
          "base_uri": "https://localhost:8080/"
        },
        "id": "4BhNxOwXmtGo",
        "outputId": "7b0a81d8-4320-41bb-895f-24dcc913546d"
      },
      "outputs": [
        {
          "output_type": "stream",
          "name": "stdout",
          "text": [
            "Nama Depan : seraf\n",
            "Nama Belakang : simanungkalit\n",
            "Umur : 22\n",
            "Status Menikah : False\n",
            "{'firstName': 'seraf', 'lastName': 'simanungkalit', 'age': 22, 'isMarried': False}\n",
            "Daftar Inspeksi Proyek:\n",
            "- pemahaman terhadap rencana dan desain\n",
            "- ketersediaan bahan dan peralatan\n",
            "- pengawasan pekerjaan\n",
            "- kualitas konstruksi\n",
            "- keselamatan kerja\n",
            "- koordinasi dengan pemilik proyek\n",
            "Waktu Datang (startTime): {'HH': 9, 'mm': 23, 'ss': 57}\n",
            "Waktu Pulang (endTime): {'HH': 15, 'mm': 25, 'ss': 43}\n",
            "Katalog A: {'Topi', 'Sepatu', 'Celana', 'Baju'}\n",
            "Katalog B: {'Sepatu', 'Tas', 'Jam Tangan', 'Baju'}\n",
            "Katalog Lengkap: {'Sepatu', 'Celana', 'Tas', 'Topi', 'Jam Tangan', 'Baju'}\n",
            "Produk Diskon: ('Baju', 'Tas', 'Kacamata')\n",
            "Produk Promo Aktif: {'Tas', 'Baju'}\n"
          ]
        }
      ],
      "source": [
        "#First name,lastName,age,isMarried\n",
        "firstName = \"seraf\"\n",
        "lastName = \"simanungkalit\"\n",
        "age = 22\n",
        "isMarried = False\n",
        "\n",
        "print(\"Nama Depan :\", firstName)\n",
        "print(\"Nama Belakang :\", lastName)\n",
        "print(\"Umur :\", age)\n",
        "print(\"Status Menikah :\", isMarried)\n",
        "\n",
        "#Data Diri\n",
        "data_diri = {\n",
        "    \"firstName\": \"seraf\",\n",
        "    \"lastName\": \"simanungkalit\",\n",
        "    \"age\": 22,\n",
        "    \"isMarried\": False\n",
        "}\n",
        "print(data_diri)\n",
        "\n",
        "\n",
        "# Membuat variabel inspeksi dengan tipe list\n",
        "inspeksi = [\n",
        "    \"pemahaman terhadap rencana dan desain\",\n",
        "    \"ketersediaan bahan dan peralatan\",\n",
        "    \"pengawasan pekerjaan\",\n",
        "    \"kualitas konstruksi\",\n",
        "    \"keselamatan kerja\",\n",
        "    \"koordinasi dengan pemilik proyek\"\n",
        "]\n",
        "print(\"Daftar Inspeksi Proyek:\")\n",
        "for item in inspeksi:\n",
        "    print(\"-\", item)\n",
        "\n",
        "    # Membuat variabel startTime sebagai dictionary (waktu datang)\n",
        "startTime = {\n",
        "    \"HH\": 9,\n",
        "    \"mm\": 23,\n",
        "    \"ss\": 57\n",
        "}\n",
        "\n",
        "# Membuat variabel endTime sebagai dictionary (waktu pulang)\n",
        "endTime = {\n",
        "    \"HH\": 15,\n",
        "    \"mm\": 25,\n",
        "    \"ss\": 43\n",
        "}\n",
        "print(\"Waktu Datang (startTime):\", startTime)\n",
        "print(\"Waktu Pulang (endTime):\", endTime)\n",
        "\n",
        "# Data KATALOG\n",
        "katalog_A = {\"Baju\", \"Celana\", \"Sepatu\", \"Topi\"}\n",
        "katalog_B = {\"Tas\", \"Jam Tangan\", \"Baju\", \"Sepatu\"}\n",
        "produk_diskon = (\"Baju\", \"Tas\", \"Kacamata\")\n",
        "\n",
        "# Gabungkan katalog_A dan katalog_B menjadi set unik\n",
        "katalog_lengkap = katalog_A.union(katalog_B)\n",
        "\n",
        "# Cari produk di katalog_lengkap yang juga ada di produk_diskon\n",
        "produk_promo_aktif = katalog_lengkap.intersection(produk_diskon)\n",
        "\n",
        "# Output hasil\n",
        "print(\"Katalog A:\", katalog_A)\n",
        "print(\"Katalog B:\", katalog_B)\n",
        "print(\"Katalog Lengkap:\", katalog_lengkap)\n",
        "print(\"Produk Diskon:\", produk_diskon)\n",
        "print(\"Produk Promo Aktif:\", produk_promo_aktif)"
      ]
    }
  ]
}